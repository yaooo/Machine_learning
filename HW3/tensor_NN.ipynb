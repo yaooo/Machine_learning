{
 "cells": [
  {
   "cell_type": "code",
   "execution_count": 1,
   "metadata": {
    "scrolled": true
   },
   "outputs": [],
   "source": [
    "import tensorflow as tf\n",
    "import matplotlib.pyplot as plt\n",
    "import numpy as np\n",
    "mnist = tf.keras.datasets.mnist # 28x28 images of hand-written digits 0-9\n",
    "\n",
    "(x_train, y_train), (x_test, y_test) = mnist.load_data()\n",
    "\n",
    "# make the number scale between 0 and 1\n",
    "x_train = tf.keras.utils.normalize(x_train, axis = 1)\n",
    "x_test = tf.keras.utils.normalize(x_test, axis = 1)\n",
    "\n",
    "\n",
    "model = tf.keras.models.Sequential()\n",
    "model.add(tf.keras.layers.Flatten())    ##input layer\n",
    "model.add(tf.keras.layers.Dense(200, activation= tf.nn.relu))\n",
    "model.add(tf.keras.layers.Dense(50, activation= tf.nn.relu))\n",
    "\n",
    "# output layer that contains the number of classfications\n",
    "model.add(tf.keras.layers.Dense(10, activation= tf.nn.softmax))\n"
   ]
  },
  {
   "cell_type": "code",
   "execution_count": 2,
   "metadata": {},
   "outputs": [
    {
     "name": "stdout",
     "output_type": "stream",
     "text": [
      "Epoch 1/10\n",
      "60000/60000 [==============================] - 4s 74us/step - loss: 0.2563 - acc: 0.9256\n",
      "Epoch 2/10\n",
      "60000/60000 [==============================] - 4s 73us/step - loss: 0.1022 - acc: 0.9681\n",
      "Epoch 3/10\n",
      "60000/60000 [==============================] - 4s 70us/step - loss: 0.0687 - acc: 0.9780\n",
      "Epoch 4/10\n",
      "60000/60000 [==============================] - 4s 66us/step - loss: 0.0501 - acc: 0.9838\n",
      "Epoch 5/10\n",
      "60000/60000 [==============================] - 4s 70us/step - loss: 0.0375 - acc: 0.9880\n",
      "Epoch 6/10\n",
      "60000/60000 [==============================] - 4s 71us/step - loss: 0.0279 - acc: 0.9907\n",
      "Epoch 7/10\n",
      "60000/60000 [==============================] - 4s 71us/step - loss: 0.0224 - acc: 0.9928\n",
      "Epoch 8/10\n",
      "60000/60000 [==============================] - 4s 73us/step - loss: 0.0196 - acc: 0.9933\n",
      "Epoch 9/10\n",
      "60000/60000 [==============================] - 4s 75us/step - loss: 0.0162 - acc: 0.9944\n",
      "Epoch 10/10\n",
      "60000/60000 [==============================] - 4s 75us/step - loss: 0.0133 - acc: 0.9954\n",
      "10000/10000 [==============================] - 0s 26us/step\n",
      "Validation loss 0.10690633243874763\n",
      "Validation accuracy: 0.9745\n",
      "_________________________________________________________________\n",
      "Layer (type)                 Output Shape              Param #   \n",
      "=================================================================\n",
      "flatten (Flatten)            multiple                  0         \n",
      "_________________________________________________________________\n",
      "dense (Dense)                multiple                  157000    \n",
      "_________________________________________________________________\n",
      "dense_1 (Dense)              multiple                  10050     \n",
      "_________________________________________________________________\n",
      "dense_2 (Dense)              multiple                  510       \n",
      "=================================================================\n",
      "Total params: 167,560\n",
      "Trainable params: 167,560\n",
      "Non-trainable params: 0\n",
      "_________________________________________________________________\n"
     ]
    }
   ],
   "source": [
    "# always try to minimize loss\n",
    "# 'adam' is one of the most common ones\n",
    "model.compile(optimizer='adam',  loss='sparse_categorical_crossentropy',\n",
    "              metrics=['accuracy'],  lr=0.01)\n",
    "model.fit(x_train, y_train, epochs=10)\n",
    "\n",
    "\n",
    "validation_loss, validation_accuracy = model.evaluate(x_test, y_test)\n",
    "print(\"Validation loss\", validation_loss)\n",
    "print(\"Validation accuracy:\",validation_accuracy)\n",
    "\n",
    "# Show the figure in binary\n",
    "# plt.imshow(x_train[0], cmap = plt.cm.binary)\n",
    "# plt.show()\n",
    "model.summary()"
   ]
  },
  {
   "cell_type": "code",
   "execution_count": 3,
   "metadata": {},
   "outputs": [
    {
     "name": "stdout",
     "output_type": "stream",
     "text": [
      "Validation rate: 0.9745\n"
     ]
    }
   ],
   "source": [
    "# To save a mdoel and make predictions\n",
    "# Save not working for now. Need to modify \"Flatten()\"\n",
    "# model.save('Lecture_one.model')\n",
    "# new_model = tf.keras.models.load_model('Lecture_one.model')\n",
    "# predictions = new_model.predict([x_test])\n",
    "# print(np.argmax(predictions[0]))\n",
    "\n",
    "prediction = model.predict([x_test])\n",
    "\n",
    "correct = 0\n",
    "for i in range(y_test.size):\n",
    "    predicted = np.argmax(prediction[i])\n",
    "    \n",
    "    if predicted == y_test[i]:\n",
    "        correct += 1\n",
    "\n",
    "print(\"Validation rate:\", correct/y_test.size)"
   ]
  },
  {
   "cell_type": "code",
   "execution_count": null,
   "metadata": {},
   "outputs": [],
   "source": []
  }
 ],
 "metadata": {
  "kernelspec": {
   "display_name": "Python 3",
   "language": "python",
   "name": "python3"
  },
  "language_info": {
   "codemirror_mode": {
    "name": "ipython",
    "version": 3
   },
   "file_extension": ".py",
   "mimetype": "text/x-python",
   "name": "python",
   "nbconvert_exporter": "python",
   "pygments_lexer": "ipython3",
   "version": "3.6.8"
  }
 },
 "nbformat": 4,
 "nbformat_minor": 2
}
