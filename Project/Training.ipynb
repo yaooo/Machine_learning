{
 "cells": [
  {
   "cell_type": "code",
   "execution_count": 1,
   "metadata": {},
   "outputs": [],
   "source": [
    "# Data\n",
    "import numpy as np\n",
    "import pandas as pd\n",
    "import os\n",
    "import csv\n",
    "import xml.etree.ElementTree as ET\n",
    "from tqdm import tqdm\n",
    "\n",
    "# Framework\n",
    "import tensorflow as tf\n",
    "from tensorflow.keras.models import Sequential\n",
    "from tensorflow.keras.layers import Dense, Dropout, Activation, Flatten, Conv2D, MaxPooling2D, Lambda, MaxPool2D, BatchNormalization, LeakyReLU\n",
    "from tensorflow.keras.preprocessing.image import ImageDataGenerator\n",
    "from tensorflow.keras.callbacks import TensorBoard\n",
    "from tensorflow.keras.utils import to_categorical\n",
    "\n",
    "# Imaging\n",
    "import cv2\n",
    "import matplotlib.pyplot as plt\n",
    "%matplotlib inline\n",
    "import seaborn as sns\n",
    "\n",
    "\n",
    "from tensorflow.python.client import device_lib\n",
    "device_lib.list_local_devices()\n",
    "\n",
    "gpu_options = tf.GPUOptions(per_process_gpu_memory_fraction = 0.8)\n",
    "sess = tf.Session(config = tf.ConfigProto(gpu_options=gpu_options))"
   ]
  },
  {
   "cell_type": "code",
   "execution_count": 2,
   "metadata": {},
   "outputs": [],
   "source": [
    "from zipfile import ZipFile\n",
    "file_name = 'data.zip'\n",
    "\n",
    "if not os.path.isdir(\"blood-cells\"):\n",
    "    with ZipFile(file_name, 'r') as zip:\n",
    "        zip.extractall()\n",
    "        print(\"Done\")\n"
   ]
  },
  {
   "cell_type": "code",
   "execution_count": 3,
   "metadata": {},
   "outputs": [
    {
     "name": "stderr",
     "output_type": "stream",
     "text": [
      "100%|██████████| 2499/2499 [00:01<00:00, 1330.58it/s]\n",
      "100%|██████████| 2497/2497 [00:01<00:00, 1334.21it/s]\n",
      "100%|██████████| 2478/2478 [00:02<00:00, 1114.57it/s]\n",
      "100%|██████████| 2483/2483 [00:01<00:00, 1343.72it/s]\n",
      "100%|██████████| 624/624 [00:00<00:00, 1401.91it/s]\n",
      "100%|██████████| 623/623 [00:00<00:00, 1454.70it/s]\n",
      "100%|██████████| 620/620 [00:00<00:00, 1386.93it/s]\n",
      "100%|██████████| 620/620 [00:00<00:00, 1419.28it/s]\n"
     ]
    }
   ],
   "source": [
    "\n",
    "def get_data(src_folder):\n",
    "    imgs = []\n",
    "    labels = []\n",
    "    names = ['NEUTROPHIL', 'EOSINOPHIL', 'MONOCYTE', 'LYMPHOCYTE']\n",
    "    for name in names:\n",
    "        label = names.index(name)+1\n",
    "        for img_name in tqdm(os.listdir(src_folder + name)):\n",
    "            path = os.path.join(src_folder, name, img_name)\n",
    "            img_file = cv2.imread(path)\n",
    "\n",
    "            if img_file is not None:\n",
    "                img_file = cv2.resize(img_file, (80, 80))\n",
    "                img_arr = np.asarray(img_file)\n",
    "                imgs.append(img_arr)\n",
    "                labels.append(label)\n",
    "    return np.asarray(imgs), np.asarray(labels)\n",
    "\n",
    "X_train, y_train = get_data('blood-cells/dataset2-master/images/TRAIN/')\n",
    "X_test, y_test = get_data('blood-cells/dataset2-master/images/TEST/')\n",
    "\n",
    "y_trainHot = to_categorical(y_train, num_classes = 5)\n",
    "y_testHot = to_categorical(y_test, num_classes = 5)\n"
   ]
  },
  {
   "cell_type": "code",
   "execution_count": 4,
   "metadata": {},
   "outputs": [],
   "source": [
    "\n",
    "# Normalize the dataset\n",
    "\n",
    "X_train=np.array(X_train)\n",
    "X_train=X_train/255.\n",
    "\n",
    "X_test=np.array(X_test)\n",
    "X_test=X_test/255.\n",
    "\n",
    "# plotHistogram(X_train[1])\n",
    "# print(X_train[1].size/3/80)"
   ]
  },
  {
   "cell_type": "code",
   "execution_count": 5,
   "metadata": {},
   "outputs": [],
   "source": [
    "# Tensorboard Usage\n",
    "# ##########################################################################################\n",
    "# # Command for calling tensorboard: \n",
    "# #tensorboard --logdir=logs/ --host localhost --port 8088\n",
    "# ##########################################################################################"
   ]
  },
  {
   "cell_type": "code",
   "execution_count": 9,
   "metadata": {},
   "outputs": [
    {
     "name": "stdout",
     "output_type": "stream",
     "text": [
      "Epoch 1/30\n",
      "312/312 [==============================] - 54s 172ms/step - loss: 1.4351 - acc: 0.2544 - val_loss: 1.3925 - val_acc: 0.2493\n",
      "Epoch 2/30\n",
      "312/312 [==============================] - 53s 170ms/step - loss: 1.4048 - acc: 0.2442 - val_loss: 1.3888 - val_acc: 0.2505\n",
      "Epoch 3/30\n",
      "312/312 [==============================] - 53s 170ms/step - loss: 1.3961 - acc: 0.2516 - val_loss: 1.3871 - val_acc: 0.2493\n",
      "Epoch 4/30\n",
      "312/312 [==============================] - 53s 170ms/step - loss: 1.3919 - acc: 0.2479 - val_loss: 1.3875 - val_acc: 0.2565\n",
      "Epoch 5/30\n",
      "312/312 [==============================] - 53s 170ms/step - loss: 1.3904 - acc: 0.2461 - val_loss: 1.3862 - val_acc: 0.2702\n",
      "Epoch 6/30\n",
      "312/312 [==============================] - 53s 170ms/step - loss: 1.3781 - acc: 0.2757 - val_loss: 1.2416 - val_acc: 0.4556\n",
      "Epoch 7/30\n",
      "312/312 [==============================] - 53s 169ms/step - loss: 1.2184 - acc: 0.3967 - val_loss: 1.0500 - val_acc: 0.5018\n",
      "Epoch 8/30\n",
      "312/312 [==============================] - 53s 170ms/step - loss: 1.0995 - acc: 0.4863 - val_loss: 0.9671 - val_acc: 0.5143\n",
      "Epoch 9/30\n",
      "312/312 [==============================] - 53s 170ms/step - loss: 1.0318 - acc: 0.5149 - val_loss: 0.9216 - val_acc: 0.5400\n",
      "Epoch 10/30\n",
      "312/312 [==============================] - 53s 169ms/step - loss: 0.9389 - acc: 0.5613 - val_loss: 0.8900 - val_acc: 0.6023\n",
      "Epoch 11/30\n",
      "312/312 [==============================] - 53s 169ms/step - loss: 0.7921 - acc: 0.6359 - val_loss: 0.7397 - val_acc: 0.6864\n",
      "Epoch 12/30\n",
      "312/312 [==============================] - 53s 169ms/step - loss: 0.6883 - acc: 0.6735 - val_loss: 0.5714 - val_acc: 0.7274\n",
      "Epoch 13/30\n",
      "312/312 [==============================] - 53s 170ms/step - loss: 0.6185 - acc: 0.7005 - val_loss: 0.5927 - val_acc: 0.7073\n",
      "Epoch 14/30\n",
      "312/312 [==============================] - 53s 170ms/step - loss: 0.5924 - acc: 0.7253 - val_loss: 0.5794 - val_acc: 0.7543\n",
      "Epoch 15/30\n",
      "312/312 [==============================] - 53s 170ms/step - loss: 0.5683 - acc: 0.7327 - val_loss: 0.5711 - val_acc: 0.7471\n",
      "Epoch 16/30\n",
      "312/312 [==============================] - 53s 170ms/step - loss: 0.5337 - acc: 0.7482 - val_loss: 0.9559 - val_acc: 0.6574\n",
      "Epoch 17/30\n",
      "312/312 [==============================] - 53s 169ms/step - loss: 0.5290 - acc: 0.7528 - val_loss: 0.5578 - val_acc: 0.7491\n",
      "Epoch 18/30\n",
      "312/312 [==============================] - 53s 170ms/step - loss: 0.5087 - acc: 0.7627 - val_loss: 0.5792 - val_acc: 0.7696\n",
      "Epoch 19/30\n",
      "312/312 [==============================] - 53s 170ms/step - loss: 0.4915 - acc: 0.7682 - val_loss: 0.6418 - val_acc: 0.7571\n",
      "Epoch 20/30\n",
      "312/312 [==============================] - 53s 170ms/step - loss: 0.4818 - acc: 0.7740 - val_loss: 0.6014 - val_acc: 0.7841\n",
      "Epoch 21/30\n",
      "312/312 [==============================] - 53s 170ms/step - loss: 0.4539 - acc: 0.7794 - val_loss: 0.5459 - val_acc: 0.7595\n",
      "Epoch 22/30\n",
      "312/312 [==============================] - 53s 170ms/step - loss: 0.4418 - acc: 0.7927 - val_loss: 0.6067 - val_acc: 0.7740\n",
      "Epoch 23/30\n",
      "312/312 [==============================] - 53s 170ms/step - loss: 0.4494 - acc: 0.7928 - val_loss: 0.6126 - val_acc: 0.7837\n",
      "Epoch 24/30\n",
      "312/312 [==============================] - 53s 170ms/step - loss: 0.4227 - acc: 0.8055 - val_loss: 0.6386 - val_acc: 0.7660\n",
      "Epoch 25/30\n",
      "312/312 [==============================] - 53s 171ms/step - loss: 0.4136 - acc: 0.8071 - val_loss: 0.5784 - val_acc: 0.7929\n",
      "Epoch 26/30\n",
      "312/312 [==============================] - 54s 173ms/step - loss: 0.4083 - acc: 0.8152 - val_loss: 0.5328 - val_acc: 0.7740\n",
      "Epoch 27/30\n",
      "312/312 [==============================] - 53s 171ms/step - loss: 0.3873 - acc: 0.8258 - val_loss: 0.6090 - val_acc: 0.7817\n",
      "Epoch 28/30\n",
      "312/312 [==============================] - 53s 170ms/step - loss: 0.3962 - acc: 0.8222 - val_loss: 0.5737 - val_acc: 0.7845\n",
      "Epoch 29/30\n",
      "312/312 [==============================] - 53s 170ms/step - loss: 0.3802 - acc: 0.8305 - val_loss: 0.5478 - val_acc: 0.7917\n",
      "Epoch 30/30\n",
      "312/312 [==============================] - 53s 170ms/step - loss: 0.3641 - acc: 0.8379 - val_loss: 0.5246 - val_acc: 0.7917\n"
     ]
    },
    {
     "ename": "OSError",
     "evalue": "Unable to create file (unable to open file: name = 'model/logs/testing-1555263688 .h5', errno = 2, error message = 'No such file or directory', flags = 13, o_flags = 242)",
     "output_type": "error",
     "traceback": [
      "\u001b[0;31m---------------------------------------------------------------------------\u001b[0m",
      "\u001b[0;31mOSError\u001b[0m                                   Traceback (most recent call last)",
      "\u001b[0;32m<ipython-input-9-c862d870d667>\u001b[0m in \u001b[0;36m<module>\u001b[0;34m\u001b[0m\n\u001b[1;32m     49\u001b[0m                               \u001b[0mepochs\u001b[0m\u001b[0;34m=\u001b[0m \u001b[0;36m30\u001b[0m\u001b[0;34m,\u001b[0m\u001b[0;34m\u001b[0m\u001b[0;34m\u001b[0m\u001b[0m\n\u001b[1;32m     50\u001b[0m                               callbacks = [tensorboard])\n\u001b[0;32m---> 51\u001b[0;31m \u001b[0mmodel\u001b[0m\u001b[0;34m.\u001b[0m\u001b[0msave\u001b[0m\u001b[0;34m(\u001b[0m\u001b[0;34m\"model/\"\u001b[0m\u001b[0;34m+\u001b[0m \u001b[0mNAME\u001b[0m \u001b[0;34m+\u001b[0m\u001b[0;34m' .h5'\u001b[0m\u001b[0;34m)\u001b[0m\u001b[0;34m\u001b[0m\u001b[0;34m\u001b[0m\u001b[0m\n\u001b[0m",
      "\u001b[0;32m/usr/local/lib/python3.6/site-packages/tensorflow/python/keras/engine/network.py\u001b[0m in \u001b[0;36msave\u001b[0;34m(self, filepath, overwrite, include_optimizer)\u001b[0m\n\u001b[1;32m   1361\u001b[0m \u001b[0;34m\u001b[0m\u001b[0m\n\u001b[1;32m   1362\u001b[0m     \u001b[0;32mfrom\u001b[0m \u001b[0mtensorflow\u001b[0m\u001b[0;34m.\u001b[0m\u001b[0mpython\u001b[0m\u001b[0;34m.\u001b[0m\u001b[0mkeras\u001b[0m\u001b[0;34m.\u001b[0m\u001b[0mmodels\u001b[0m \u001b[0;32mimport\u001b[0m \u001b[0msave_model\u001b[0m  \u001b[0;31m# pylint: disable=g-import-not-at-top\u001b[0m\u001b[0;34m\u001b[0m\u001b[0;34m\u001b[0m\u001b[0m\n\u001b[0;32m-> 1363\u001b[0;31m     \u001b[0msave_model\u001b[0m\u001b[0;34m(\u001b[0m\u001b[0mself\u001b[0m\u001b[0;34m,\u001b[0m \u001b[0mfilepath\u001b[0m\u001b[0;34m,\u001b[0m \u001b[0moverwrite\u001b[0m\u001b[0;34m,\u001b[0m \u001b[0minclude_optimizer\u001b[0m\u001b[0;34m)\u001b[0m\u001b[0;34m\u001b[0m\u001b[0;34m\u001b[0m\u001b[0m\n\u001b[0m\u001b[1;32m   1364\u001b[0m \u001b[0;34m\u001b[0m\u001b[0m\n\u001b[1;32m   1365\u001b[0m   \u001b[0;32mdef\u001b[0m \u001b[0msave_weights\u001b[0m\u001b[0;34m(\u001b[0m\u001b[0mself\u001b[0m\u001b[0;34m,\u001b[0m \u001b[0mfilepath\u001b[0m\u001b[0;34m,\u001b[0m \u001b[0moverwrite\u001b[0m\u001b[0;34m=\u001b[0m\u001b[0;32mTrue\u001b[0m\u001b[0;34m,\u001b[0m \u001b[0msave_format\u001b[0m\u001b[0;34m=\u001b[0m\u001b[0;32mNone\u001b[0m\u001b[0;34m)\u001b[0m\u001b[0;34m:\u001b[0m\u001b[0;34m\u001b[0m\u001b[0;34m\u001b[0m\u001b[0m\n",
      "\u001b[0;32m/usr/local/lib/python3.6/site-packages/tensorflow/python/keras/engine/saving.py\u001b[0m in \u001b[0;36msave_model\u001b[0;34m(model, filepath, overwrite, include_optimizer)\u001b[0m\n\u001b[1;32m     87\u001b[0m         \u001b[0;32mreturn\u001b[0m\u001b[0;34m\u001b[0m\u001b[0;34m\u001b[0m\u001b[0m\n\u001b[1;32m     88\u001b[0m \u001b[0;34m\u001b[0m\u001b[0m\n\u001b[0;32m---> 89\u001b[0;31m     \u001b[0mf\u001b[0m \u001b[0;34m=\u001b[0m \u001b[0mh5py\u001b[0m\u001b[0;34m.\u001b[0m\u001b[0mFile\u001b[0m\u001b[0;34m(\u001b[0m\u001b[0mfilepath\u001b[0m\u001b[0;34m,\u001b[0m \u001b[0mmode\u001b[0m\u001b[0;34m=\u001b[0m\u001b[0;34m'w'\u001b[0m\u001b[0;34m)\u001b[0m\u001b[0;34m\u001b[0m\u001b[0;34m\u001b[0m\u001b[0m\n\u001b[0m\u001b[1;32m     90\u001b[0m     \u001b[0mopened_new_file\u001b[0m \u001b[0;34m=\u001b[0m \u001b[0;32mTrue\u001b[0m\u001b[0;34m\u001b[0m\u001b[0;34m\u001b[0m\u001b[0m\n\u001b[1;32m     91\u001b[0m   \u001b[0;32melse\u001b[0m\u001b[0;34m:\u001b[0m\u001b[0;34m\u001b[0m\u001b[0;34m\u001b[0m\u001b[0m\n",
      "\u001b[0;32m/usr/local/lib64/python3.6/site-packages/h5py/_hl/files.py\u001b[0m in \u001b[0;36m__init__\u001b[0;34m(self, name, mode, driver, libver, userblock_size, swmr, rdcc_nslots, rdcc_nbytes, rdcc_w0, track_order, **kwds)\u001b[0m\n\u001b[1;32m    392\u001b[0m                 fid = make_fid(name, mode, userblock_size,\n\u001b[1;32m    393\u001b[0m                                \u001b[0mfapl\u001b[0m\u001b[0;34m,\u001b[0m \u001b[0mfcpl\u001b[0m\u001b[0;34m=\u001b[0m\u001b[0mmake_fcpl\u001b[0m\u001b[0;34m(\u001b[0m\u001b[0mtrack_order\u001b[0m\u001b[0;34m=\u001b[0m\u001b[0mtrack_order\u001b[0m\u001b[0;34m)\u001b[0m\u001b[0;34m,\u001b[0m\u001b[0;34m\u001b[0m\u001b[0;34m\u001b[0m\u001b[0m\n\u001b[0;32m--> 394\u001b[0;31m                                swmr=swmr)\n\u001b[0m\u001b[1;32m    395\u001b[0m \u001b[0;34m\u001b[0m\u001b[0m\n\u001b[1;32m    396\u001b[0m             \u001b[0;32mif\u001b[0m \u001b[0mswmr_support\u001b[0m\u001b[0;34m:\u001b[0m\u001b[0;34m\u001b[0m\u001b[0;34m\u001b[0m\u001b[0m\n",
      "\u001b[0;32m/usr/local/lib64/python3.6/site-packages/h5py/_hl/files.py\u001b[0m in \u001b[0;36mmake_fid\u001b[0;34m(name, mode, userblock_size, fapl, fcpl, swmr)\u001b[0m\n\u001b[1;32m    174\u001b[0m         \u001b[0mfid\u001b[0m \u001b[0;34m=\u001b[0m \u001b[0mh5f\u001b[0m\u001b[0;34m.\u001b[0m\u001b[0mcreate\u001b[0m\u001b[0;34m(\u001b[0m\u001b[0mname\u001b[0m\u001b[0;34m,\u001b[0m \u001b[0mh5f\u001b[0m\u001b[0;34m.\u001b[0m\u001b[0mACC_EXCL\u001b[0m\u001b[0;34m,\u001b[0m \u001b[0mfapl\u001b[0m\u001b[0;34m=\u001b[0m\u001b[0mfapl\u001b[0m\u001b[0;34m,\u001b[0m \u001b[0mfcpl\u001b[0m\u001b[0;34m=\u001b[0m\u001b[0mfcpl\u001b[0m\u001b[0;34m)\u001b[0m\u001b[0;34m\u001b[0m\u001b[0;34m\u001b[0m\u001b[0m\n\u001b[1;32m    175\u001b[0m     \u001b[0;32melif\u001b[0m \u001b[0mmode\u001b[0m \u001b[0;34m==\u001b[0m \u001b[0;34m'w'\u001b[0m\u001b[0;34m:\u001b[0m\u001b[0;34m\u001b[0m\u001b[0;34m\u001b[0m\u001b[0m\n\u001b[0;32m--> 176\u001b[0;31m         \u001b[0mfid\u001b[0m \u001b[0;34m=\u001b[0m \u001b[0mh5f\u001b[0m\u001b[0;34m.\u001b[0m\u001b[0mcreate\u001b[0m\u001b[0;34m(\u001b[0m\u001b[0mname\u001b[0m\u001b[0;34m,\u001b[0m \u001b[0mh5f\u001b[0m\u001b[0;34m.\u001b[0m\u001b[0mACC_TRUNC\u001b[0m\u001b[0;34m,\u001b[0m \u001b[0mfapl\u001b[0m\u001b[0;34m=\u001b[0m\u001b[0mfapl\u001b[0m\u001b[0;34m,\u001b[0m \u001b[0mfcpl\u001b[0m\u001b[0;34m=\u001b[0m\u001b[0mfcpl\u001b[0m\u001b[0;34m)\u001b[0m\u001b[0;34m\u001b[0m\u001b[0;34m\u001b[0m\u001b[0m\n\u001b[0m\u001b[1;32m    177\u001b[0m     \u001b[0;32melif\u001b[0m \u001b[0mmode\u001b[0m \u001b[0;34m==\u001b[0m \u001b[0;34m'a'\u001b[0m\u001b[0;34m:\u001b[0m\u001b[0;34m\u001b[0m\u001b[0;34m\u001b[0m\u001b[0m\n\u001b[1;32m    178\u001b[0m         \u001b[0;31m# Open in append mode (read/write).\u001b[0m\u001b[0;34m\u001b[0m\u001b[0;34m\u001b[0m\u001b[0;34m\u001b[0m\u001b[0m\n",
      "\u001b[0;32mh5py/_objects.pyx\u001b[0m in \u001b[0;36mh5py._objects.with_phil.wrapper\u001b[0;34m()\u001b[0m\n",
      "\u001b[0;32mh5py/_objects.pyx\u001b[0m in \u001b[0;36mh5py._objects.with_phil.wrapper\u001b[0;34m()\u001b[0m\n",
      "\u001b[0;32mh5py/h5f.pyx\u001b[0m in \u001b[0;36mh5py.h5f.create\u001b[0;34m()\u001b[0m\n",
      "\u001b[0;31mOSError\u001b[0m: Unable to create file (unable to open file: name = 'model/logs/testing-1555263688 .h5', errno = 2, error message = 'No such file or directory', flags = 13, o_flags = 242)"
     ]
    }
   ],
   "source": [
    "import time\n",
    "num_category = len(y_trainHot[0])\n",
    "image_shape = X_train[0].shape\n",
    "\n",
    "NAME = \"logs/{}-{}\".format(\"testing\", int(time.time()))\n",
    "\n",
    "tensorboard = TensorBoard(log_dir=NAME)\n",
    "\n",
    "model = Sequential()\n",
    "\n",
    "model.add(Conv2D(32, (3, 3), input_shape=image_shape))\n",
    "model.add(Activation('relu'))\n",
    "model.add(MaxPooling2D(pool_size=(2, 2)))\n",
    "\n",
    "\n",
    "model.add(Conv2D(64, (3, 3)))\n",
    "model.add(Activation('relu'))\n",
    "model.add(MaxPooling2D(pool_size=(2, 2)))\n",
    "\n",
    "\n",
    "model.add(Conv2D(64, (3, 3)))\n",
    "model.add(LeakyReLU(alpha = 0.05))\n",
    "model.add(MaxPooling2D(pool_size=(2, 2)))\n",
    "model.add(Dropout(0.5))\n",
    "\n",
    "model.add(Flatten())  # this converts our 3D feature maps to 1D feature vectors\n",
    "model.add(Dense(64))\n",
    "model.add(LeakyReLU(alpha = 0.05))\n",
    "model.add(Dropout(0.5))\n",
    "\n",
    "\n",
    "model.add(Dense(num_category))\n",
    "model.add(Activation('softmax'))\n",
    "\n",
    "\n",
    "model.compile(loss='categorical_crossentropy',\n",
    "              optimizer='adam',\n",
    "              metrics=['accuracy'])\n",
    "\n",
    "\n",
    "datagen = ImageDataGenerator(\n",
    "            rotation_range=10,\n",
    "            width_shift_range=0.1,\n",
    "            height_shift_range=0.1,\n",
    "            horizontal_flip=True) \n",
    "\n",
    "history = model.fit_generator(datagen.flow(X_train, y_trainHot, batch_size=32),  \n",
    "                              validation_data = (X_test, y_testHot),\n",
    "                              epochs= 30, \n",
    "                              callbacks = [tensorboard])\n",
    "model.save(\"model/\"+ NAME +' .h5')"
   ]
  },
  {
   "cell_type": "code",
   "execution_count": 10,
   "metadata": {},
   "outputs": [],
   "source": [
    "model.save(\"something.h5\")"
   ]
  },
  {
   "cell_type": "code",
   "execution_count": 11,
   "metadata": {},
   "outputs": [
    {
     "name": "stdout",
     "output_type": "stream",
     "text": [
      "2487/2487 [==============================] - 3s 1ms/step\n"
     ]
    },
    {
     "data": {
      "text/plain": [
       "[0.5246063119387653, 0.7917169280257338]"
      ]
     },
     "execution_count": 11,
     "metadata": {},
     "output_type": "execute_result"
    }
   ],
   "source": [
    "model.evaluate(X_test, y_testHot)"
   ]
  },
  {
   "cell_type": "code",
   "execution_count": null,
   "metadata": {},
   "outputs": [],
   "source": []
  }
 ],
 "metadata": {
  "kernelspec": {
   "display_name": "Python 3",
   "language": "python",
   "name": "python3"
  },
  "language_info": {
   "codemirror_mode": {
    "name": "ipython",
    "version": 3
   },
   "file_extension": ".py",
   "mimetype": "text/x-python",
   "name": "python",
   "nbconvert_exporter": "python",
   "pygments_lexer": "ipython3",
   "version": "3.6.8"
  }
 },
 "nbformat": 4,
 "nbformat_minor": 2
}
